{
 "cells": [
  {
   "cell_type": "markdown",
   "id": "d86c7c92-f5da-4a89-9aa7-4f3e06f85be7",
   "metadata": {},
   "source": [
    "# Homework 7: Sentiment Classification with Pre-trained and Re-trained GloVe Embeddings\n",
    "\n",
    "## Due: Midnight on October 19th @ Midnight (with 2-hour grace period) and worth 85 points.\n",
    "\n",
    "In this notebook, we’ll continue with the investigation of text classification using \"Bag of Embeddings\" models and the IMDB movie review dataset. \n",
    "We'll focus on unfrozen embeddings, which refine the embedding space based on your dataset. \n",
    "\n",
    "You'll do three problems:\n",
    "\n",
    "* **Problem One:** Build a baseline model with unfrozen embeddings and experiment with architectural and training adjustments to improve performance.\n",
    "* **Problem Two:** Investigate how increasing the maximum message length and vocabulary size affects model accuracy and generalization.\n",
    "* **Problem Three:** Examine the impact of changing the embedding dimension on model performance.\n",
    "\n",
    "\n",
    "In each problem, you'll report your best validation accuracy and reflect on what you have learned. "
   ]
  },
  {
   "cell_type": "markdown",
   "id": "743e9267-b3ab-4b06-a87a-d3cc905c823a",
   "metadata": {},
   "source": [
    "### Useful Imports"
   ]
  },
  {
   "cell_type": "code",
   "execution_count": 31,
   "id": "b273c10a-aad2-43ab-8e21-749460bf3dc7",
   "metadata": {
    "jupyter": {
     "source_hidden": true
    }
   },
   "outputs": [],
   "source": [
    "import numpy as np\n",
    "import os\n",
    "import matplotlib.pyplot as plt\n",
    "import time\n",
    "from collections import Counter\n",
    "\n",
    "\n",
    "from pathlib import Path\n",
    "import tensorflow as tf\n",
    "from tensorflow.keras import layers, models, Input, Sequential\n",
    "from tensorflow.keras.layers import Input, Embedding, GlobalAveragePooling1D, Dense\n",
    "from tensorflow.keras.preprocessing import sequence\n",
    "from tensorflow.keras.preprocessing.sequence import pad_sequences\n",
    "from tensorflow.keras.datasets import imdb\n",
    "from sklearn.model_selection import train_test_split\n",
    "\n",
    "from tensorflow.keras.optimizers import Adam\n",
    "from tensorflow.keras.callbacks import EarlyStopping,LearningRateScheduler,ReduceLROnPlateau\n",
    "from tensorflow.keras.optimizers.schedules import CosineDecay, ExponentialDecay\n",
    "from tensorflow.keras.layers import LayerNormalization, MaxPooling2D,Dropout,GlobalAveragePooling2D,Dense\n",
    "from tensorflow.keras.layers import Conv2D,BatchNormalization,Activation,GlobalMaxPooling1D, Flatten\n",
    "from sklearn.model_selection import StratifiedShuffleSplit\n",
    "\n",
    "from sklearn.model_selection import StratifiedShuffleSplit\n",
    "\n",
    "\n",
    "# Reproducibility\n",
    "\n",
    "random_seed = 42\n",
    "\n",
    "np.random.seed(random_seed)\n",
    "tf.random.set_seed(random_seed)\n",
    "\n",
    "# utility code\n",
    "\n",
    "from datetime import datetime\n",
    "\n",
    "def format_hms(seconds):\n",
    "    return time.strftime(\"%H:%M:%S\", time.gmtime(seconds))\n",
    "\n",
    "'''  How to time your code\n",
    "# start timer\n",
    "start_time = time.time()\n",
    "\n",
    "<your code here> \n",
    "\n",
    "# Record end time and print execution time\n",
    "print(f\"Execution Time: \" + format_time(time.time()-start_time))\n",
    "'''\n",
    "\n",
    "os.environ['TF_CPP_MIN_LOG_LEVEL'] = '2'  # Suppresses INFO and WARNING messages"
   ]
  },
  {
   "cell_type": "markdown",
   "id": "94acc9b1-ae20-451d-acd6-494b4de6762f",
   "metadata": {},
   "source": [
    "### Utility function to plot learning curves and keep track of all results\n",
    "\n",
    "- Call `print_results()` to see listing of all results logged so far\n",
    "- We've also added  `"
   ]
  },
  {
   "cell_type": "code",
   "execution_count": 2,
   "id": "c8d80236-bf58-4a39-90a3-14f08bd40409",
   "metadata": {
    "jupyter": {
     "source_hidden": true
    }
   },
   "outputs": [],
   "source": [
    "def plot_learning_curves(hist, title, verbose=True):\n",
    "    \n",
    "    val_losses = hist.history['val_loss']\n",
    "    min_val_loss = min(val_losses)\n",
    "    min_val_epoch = val_losses.index(min_val_loss)\n",
    "    val_acc_at_min_loss = hist.history['val_accuracy'][min_val_epoch]\n",
    "\n",
    "    epochs = range(1, len(val_losses) + 1)  # epoch numbers starting at 1\n",
    "\n",
    "    fig, axs = plt.subplots(2, 1, figsize=(8, 8), sharex=True)\n",
    "\n",
    "    # --- Loss Plot ---\n",
    "    axs[0].plot(epochs, hist.history['loss'], label='train loss')\n",
    "    axs[0].plot(epochs, hist.history['val_loss'], label='val loss')\n",
    "    axs[0].scatter(min_val_epoch + 1, min_val_loss, color='red', marker='x', s=50, label='min val loss')\n",
    "    axs[0].set_title(f'{title} - Categorical Cross-Entropy Loss')\n",
    "    axs[0].set_ylabel('Loss')\n",
    "    axs[0].legend()\n",
    "    axs[0].grid(True)\n",
    "\n",
    "    # --- Accuracy Plot ---\n",
    "    axs[1].plot(epochs, hist.history['accuracy'], label='train acc')\n",
    "    axs[1].plot(epochs, hist.history['val_accuracy'], label='val acc')\n",
    "    axs[1].scatter(min_val_epoch + 1, val_acc_at_min_loss, color='red', marker='x', s=50, label='acc @ min val loss')\n",
    "    axs[1].set_title(f'{title} - Accuracy')\n",
    "    axs[1].set_xlabel('Epoch')\n",
    "    axs[1].set_ylabel('Accuracy')\n",
    "    axs[1].legend()\n",
    "    axs[1].grid(True)\n",
    "    axs[1].set_ylim(0, 1.05)\n",
    "\n",
    "    plt.tight_layout()\n",
    "    plt.show()\n"
   ]
  },
  {
   "cell_type": "markdown",
   "id": "8102391d-ab5a-41e1-a232-faeca6abbc92",
   "metadata": {},
   "source": [
    "###  Wrapper for training and testing\n",
    "\n",
    "#### Assumptions:   \n",
    "- Early stopping is default, add other callbacks as needed\n",
    "- Uses \"binary_crossentropy\" for binary classification task. \n",
    "- Assumes `X_train,y_train,X_test,y_test` already defined, will access them as global variables. \n",
    "- If `X_val` and `y_val` defined, will use those, else assumes `validation_split = 0.2` in `fit`\n",
    "\n",
    "\n",
    "**Note:** See the end of the notebook for results and parameter settings. "
   ]
  },
  {
   "cell_type": "code",
   "execution_count": 3,
   "id": "39dbe3e7-8680-43aa-ba73-118516b68bee",
   "metadata": {
    "jupyter": {
     "source_hidden": true
    }
   },
   "outputs": [],
   "source": [
    "def train_and_test(model, \n",
    "                   title         = \"Learning Curves\",\n",
    "                   epochs        = 200,                   # Just needs to be bigger than early stopping point\n",
    "                   optimizer     = \"Adam\",\n",
    "                   lr_schedule   = 1e-3,                  # Adam defaults \n",
    "                   clipnorm      = None,                 \n",
    "                   batch_size    = 128,  \n",
    "                   loss          = \"binary_crossentropy\",\n",
    "                   metrics       = [\"accuracy\"],\n",
    "                   use_early_stopping = True,\n",
    "                   patience      = 10,                                       \n",
    "                   min_delta     = 0.0001,                 \n",
    "                   callbacks     = [],                     # for extra callbacks other than early stopping\n",
    "                   verbose       = 0,\n",
    "                   return_history = False\n",
    "                  ):\n",
    "\n",
    "    print(f\"\\n{title}\\n\")\n",
    "\n",
    "    if optimizer == \"Adam\":\n",
    "        opt = Adam(learning_rate=lr_schedule,clipnorm=clipnorm) \n",
    "    else:\n",
    "        opt = optimizer\n",
    "    \n",
    "    #Compiling the model\n",
    "    model.compile(optimizer = opt, \n",
    "                  loss      = loss, \n",
    "                  metrics   = metrics\n",
    "                 )\n",
    "\n",
    "  \n",
    "\n",
    "    if use_early_stopping:\n",
    "        early_stop = EarlyStopping(\n",
    "            monitor              = 'val_loss',\n",
    "            patience             = patience,\n",
    "            min_delta            = min_delta,\n",
    "            restore_best_weights = True,               # this will mean that the model which produced the smallest validation loss will be returned\n",
    "            verbose              = verbose\n",
    "        ) \n",
    "        cbs=[early_stop] + callbacks\n",
    "    else:\n",
    "        cbs=callbacks\n",
    "\n",
    "    # start timer\n",
    "    start = time.time()\n",
    "    \n",
    "    # Fit the model with early stopping\n",
    "    # If X_val defined, then  use it, else assume val is split from train\n",
    "\n",
    "    if 'X_val' in globals():\n",
    "        history = model.fit(X_train, y_train,\n",
    "                            epochs=epochs,\n",
    "                            batch_size=batch_size,\n",
    "                            validation_data=(X_val, y_val),      \n",
    "                            callbacks=cbs,\n",
    "                            verbose=verbose\n",
    "                           )\n",
    "    else:\n",
    "        history = model.fit(X_train, y_train,\n",
    "                            epochs=epochs,\n",
    "                            batch_size=batch_size,\n",
    "                            validation_split=0.2,      \n",
    "                            callbacks=cbs,\n",
    "                            verbose=verbose\n",
    "                           )        \n",
    "\n",
    "    # Plot training history\n",
    "    plot_learning_curves(history, title=title)\n",
    "\n",
    "    # Find epoch with minimum validation loss\n",
    "    min_val_epoch = np.argmin(history.history['val_loss'])\n",
    "    # Retrieve the values at that epoch\n",
    "    min_val_loss = history.history['val_loss'][min_val_epoch]    \n",
    "    # Get corresponding validation accuracy at that epoch\n",
    "    val_acc_at_min_loss = history.history['val_accuracy'][min_val_epoch]\n",
    "\n",
    "    # Evaluate on test data\n",
    "    test_loss, test_accuracy = model.evaluate(X_test, y_test, verbose=0)\n",
    "    \n",
    "    # Record end time and print execution time\n",
    "    end = time.time()\n",
    "    print(f\"\\nExecution Time: \" + format_hms(end-start))\n",
    "\n",
    "    # Print out results\n",
    "\n",
    "    print(f\"\\nFinal Training Loss:            {history.history['loss'][-1]:.4f}\")\n",
    "    print(f\"Final Training Accuracy:        {history.history['accuracy'][-1]:.4f}\")\n",
    "    print(f\"Final Validation Loss:          {history.history['val_loss'][-1]:.4f}\")\n",
    "    print(f\"Final Validation Accuracy:      {history.history['val_accuracy'][-1]:.4f}\")\n",
    "    print(f\"Minimum Validation Loss:        {min_val_loss:.4f} (Epoch {min_val_epoch + 1})\")\n",
    "    print(f\"Validation Accuracy @ Min Loss: {val_acc_at_min_loss:.4f}\")\n",
    "\n",
    "    print(f\"\\nTest Loss: {test_loss:.4f}\")\n",
    "    print(f\"Test Accuracy: {test_accuracy:.4f}\")\n",
    "\n",
    "    print(f\"\\nValidation-Test Accuracy Gap: {abs(val_acc_at_min_loss - test_accuracy):.6f}\")\n",
    "\n",
    "    # Store accuracy in results\n",
    "    results[title] = (val_acc_at_min_loss,min_val_epoch + 1)\n",
    "\n",
    "    # Store all information about run in parameter_settings\n",
    "    \n",
    "    global parameter_settings\n",
    "    entry = {\n",
    "        \"title\": title,\n",
    "        \"timestamp\": datetime.now().isoformat(timespec=\"seconds\"),\n",
    "        \"epochs\": int(epochs),\n",
    "        \"optimizer\": optimizer,\n",
    "        \"lr_schedule\": lr_schedule,\n",
    "        \"clipnorm\": clipnorm,\n",
    "        \"loss\": loss,\n",
    "        \"batch_size\": batch_size,\n",
    "        \"use_early_stopping\": use_early_stopping,\n",
    "        \"patience\": patience,\n",
    "        \"min_delta\": min_delta,\n",
    "        \"callbacks\": _summarize_callbacks(callbacks),\n",
    "        \"Final Training Loss\" : history.history['loss'][-1],\n",
    "        \"Final Training Accuracy\" : history.history['accuracy'][-1],\n",
    "        \"Final Val Loss\" : history.history['val_loss'][-1],\n",
    "        \"Final Val Accuracy\" : history.history['val_accuracy'][-1],\n",
    "        \"Min Val Loss\" : min_val_loss,\n",
    "        \"Min Val Loss Epoch\" : min_val_epoch,\n",
    "        \"Val Acc @ Min Loss\" : val_acc_at_min_loss,\n",
    "        \"Test Loss\" : test_loss,\n",
    "        \"Test Acc\" : test_accuracy,\n",
    "        \"Val-Test Accuracy Gap:\" : abs(val_acc_at_min_loss - test_accuracy)\n",
    "    }\n",
    "    parameter_settings.setdefault(title, []).append(entry)  \n",
    "\n",
    "    if return_history:\n",
    "        return history\n",
    "\n",
    "def _summarize_callbacks(cbs):\n",
    "    if cbs is None:\n",
    "        return None\n",
    "    out = []\n",
    "    for cb in cbs:\n",
    "        name = getattr(cb, \"__class__\", type(cb)).__name__\n",
    "        info = {\"class\": name}\n",
    "        # grab a few common attributes if present\n",
    "        for attr in (\"monitor\", \"mode\", \"patience\", \"min_delta\",\n",
    "                     \"factor\", \"min_lr\", \"verbose\", \"cooldown\"):\n",
    "            if hasattr(cb, attr):\n",
    "                info[attr] = getattr(cb, attr)\n",
    "        out.append(info)\n",
    "    return out\n",
    "\n",
    "results = {}\n",
    "parameter_settings = {}\n",
    "\n",
    "def print_results():\n",
    "    for title, (acc, ep) in sorted(results.items(), \n",
    "                                   key=lambda kv: kv[1][0],   # kv[1] is (acc, epoch); [0] is acc\n",
    "                                   reverse=True\n",
    "                                  ):\n",
    "        print(f\"{title:<40}\\t{acc:.4f}\\t{ep}\")"
   ]
  },
  {
   "cell_type": "code",
   "execution_count": 4,
   "id": "2bb0021e-652b-4836-a4d0-3c8f5f970a19",
   "metadata": {},
   "outputs": [],
   "source": [
    "reduce_lr = ReduceLROnPlateau(\n",
    "    monitor='val_loss',    # Quantity to be monitored.\n",
    "    factor=0.5,            # Factor by which the learning rate will be reduced.\n",
    "                           # new_lr = lr * factor\n",
    "    patience=5,            # Number of epochs with no improvement\n",
    "                           # after which learning rate will be reduced.\n",
    "    min_delta=1e-5,        # Threshold for measuring the new optimum,\n",
    "                           # to only focus on significant changes.\n",
    "    cooldown=0,            # Number of epochs to wait before resuming\n",
    "                           # normal operation after lr has been reduced.\n",
    "    min_lr=1e-8,           # Lower bound on the learning rate.\n",
    "    verbose=1,             # 0: quiet, 1: update messages.\n",
    ")\n",
    "\n",
    "#  put in the callbacks list:\n",
    "\n",
    "#    train_and_test(model, title=\"Learning Curves\",callbacks=[reduce_lr])\n"
   ]
  },
  {
   "cell_type": "markdown",
   "id": "2ba0c695-3f28-4c5b-8276-7c89bfa86b16",
   "metadata": {},
   "source": [
    "### Prelude:  A little EDA: Distribution of review lengths and coverage by max vocabulary size\n",
    "\n",
    "You will use this to think about where the set parameters for maximum review length and the maximum number of unique tokens to use. \n"
   ]
  },
  {
   "cell_type": "code",
   "execution_count": 5,
   "id": "d1ffc0d2-9800-4e92-aae1-a8645d1f1239",
   "metadata": {},
   "outputs": [
    {
     "name": "stdout",
     "output_type": "stream",
     "text": [
      "Total unique words in Keras IMDB word_index (corpus-wide): 88,584\n",
      "Num training reviews: 25,000\n",
      "Max length: 2,494 tokens\n",
      "Mean length: 238.7 tokens\n",
      "Median length: 178 tokens\n",
      "90th percentile: 467 tokens\n",
      "95th percentile: 610 tokens\n",
      "99th percentile: 926 tokens\n"
     ]
    },
    {
     "data": {
      "image/png": "[encoded data removed]",
      "text/plain": [
       "<Figure size 800x500 with 1 Axes>"
      ]
     },
     "metadata": {},
     "output_type": "display_data"
    },
    {
     "name": "stdout",
     "output_type": "stream",
     "text": [
      "\n",
      "Unique word types in TRAIN (id >= 3): 88,583\n",
      "Total word tokens in TRAIN (id >= 3): 5,942,840\n",
      "\n",
      "Coverage metrics by candidate vocab size (TRAIN split):\n",
      "training_vocabulary_size= 2,000 | coverage= 82.84% | OOV= 17.16% | types kept=  1,997 | tokens kept= 4,922,766\n",
      "training_vocabulary_size= 5,000 | coverage= 90.03% | OOV=  9.97% | types kept=  4,997 | tokens kept= 5,350,551\n",
      "training_vocabulary_size=10,000 | coverage= 94.25% | OOV=  5.75% | types kept=  9,997 | tokens kept= 5,601,261\n",
      "training_vocabulary_size=20,000 | coverage= 97.22% | OOV=  2.78% | types kept= 19,997 | tokens kept= 5,777,376\n",
      "training_vocabulary_size=30,000 | coverage= 98.37% | OOV=  1.63% | types kept= 29,997 | tokens kept= 5,846,141\n",
      "training_vocabulary_size=50,000 | coverage= 99.32% | OOV=  0.68% | types kept= 49,997 | tokens kept= 5,902,246\n",
      "training_vocabulary_size=70,000 | coverage= 99.69% | OOV=  0.31% | types kept= 69,997 | tokens kept= 5,924,254\n",
      "training_vocabulary_size=88,584 | coverage=100.00% | OOV=  0.00% | types kept= 88,581 | tokens kept= 5,942,838\n"
     ]
    },
    {
     "data": {
      "image/png": "[encoded data removed]",
      "text/plain": [
       "<Figure size 700x450 with 1 Axes>"
      ]
     },
     "metadata": {},
     "output_type": "display_data"
    }
   ],
   "source": [
    "# IMDB vocab & length stats + coverage table + single coverage plot\n",
    "\n",
    "from tensorflow.keras.datasets import imdb\n",
    "from collections import Counter\n",
    "import numpy as np\n",
    "import matplotlib.pyplot as plt\n",
    "\n",
    "# ---------------------------------------\n",
    "# Load IMDB with NO cap (so we can measure coverage fairly)\n",
    "# ---------------------------------------\n",
    "(X_tr, y_tr), _ = imdb.load_data()\n",
    "\n",
    "# ---------------------------------------\n",
    "# 1) Global vocab stats (from Keras word_index)\n",
    "# ---------------------------------------\n",
    "word_index = imdb.get_word_index()  # mapping: word -> rank (lower rank = more frequent)\n",
    "total_unique_words_corpus = len(word_index)  # across the full IMDB corpus Keras ships\n",
    "print(f\"Total unique words in Keras IMDB word_index (corpus-wide): {total_unique_words_corpus:,}\")\n",
    "\n",
    "# ---------------------------------------\n",
    "# 2) Training review length stats + histogram (students pick max_text_length)\n",
    "# ---------------------------------------\n",
    "lengths = np.fromiter((len(r) for r in X_tr), dtype=np.int32)\n",
    "print(f\"Num training reviews: {len(lengths):,}\")\n",
    "print(f\"Max length: {lengths.max():,} tokens\")\n",
    "print(f\"Mean length: {lengths.mean():.1f} tokens\")\n",
    "print(f\"Median length: {np.median(lengths):.0f} tokens\")\n",
    "for q in (90, 95, 99):\n",
    "    print(f\"{q}th percentile: {int(np.percentile(lengths, q))} tokens\")\n",
    "\n",
    "plt.figure(figsize=(8, 5))\n",
    "plt.hist(lengths, bins=100, edgecolor='b')\n",
    "plt.title(\"Histogram of IMDb Review Lengths (Training Set)\")\n",
    "plt.xlabel(\"Tokens per review\")\n",
    "plt.ylabel(\"Frequency\")\n",
    "plt.show()\n",
    "\n",
    "# ---------------------------------------\n",
    "# 3) Training-only frequency counts for real words (ids >= 3)\n",
    "#    IMDB ID conventions: 0=<PAD>, 1=<START>, 2=<OOV>, >=3 actual words\n",
    "# ---------------------------------------\n",
    "def iter_tokens(seqs):\n",
    "    for s in seqs:\n",
    "        for t in s:\n",
    "            yield t\n",
    "\n",
    "train_counts = Counter(t for t in iter_tokens(X_tr) if t >= 3)\n",
    "\n",
    "# Frequency list (descending) and cumulative token coverage\n",
    "freqs = np.array(sorted(train_counts.values(), reverse=True), dtype=np.int64)\n",
    "cum_tokens = np.cumsum(freqs)\n",
    "total_tokens_train_words = int(cum_tokens[-1])\n",
    "num_unique_words_train = int(len(freqs))\n",
    "\n",
    "print(f\"\\nUnique word types in TRAIN (id >= 3): {num_unique_words_train:,}\")\n",
    "print(f\"Total word tokens in TRAIN (id >= 3): {total_tokens_train_words:,}\")\n",
    "\n",
    "# ---------------------------------------\n",
    "# 4) Coverage helper for a given num_words cap (Keras convention)\n",
    "#    Valid word ids are [3, num_words_cap-1] → ranks [1 .. num_words_cap-3]\n",
    "# ---------------------------------------\n",
    "def coverage_for_cap(num_words_cap: int):\n",
    "    kept_types = max(0, min(num_words_cap - 3, num_unique_words_train))\n",
    "    kept_tokens = int(cum_tokens[kept_types - 1]) if kept_types > 0 else 0\n",
    "    oov_tokens = total_tokens_train_words - kept_tokens\n",
    "    coverage = kept_tokens / total_tokens_train_words if total_tokens_train_words > 0 else 0.0\n",
    "    oov_share = oov_tokens / total_tokens_train_words if total_tokens_train_words > 0 else 0.0\n",
    "    return dict(\n",
    "        cap=num_words_cap,\n",
    "        kept_tokens=kept_tokens,\n",
    "        kept_types=kept_types,\n",
    "        coverage=coverage,\n",
    "        oov_share=oov_share\n",
    "    )\n",
    "\n",
    "# ---------------------------------------\n",
    "# 5) Candidate vocab sizes: ASCII table + single coverage plot\n",
    "# ---------------------------------------\n",
    "candidate_caps = [2_000, 5_000, 10_000, 20_000, 30_000, 50_000,70_000,88_584]  # students can edit\n",
    "rows = [coverage_for_cap(k) for k in candidate_caps]\n",
    "\n",
    "print(\"\\nCoverage metrics by candidate vocab size (TRAIN split):\")\n",
    "for r in rows:\n",
    "    print(f\"training_vocabulary_size={r['cap']:>6,} | coverage={r['coverage']*100:6.2f}% | \"\n",
    "          f\"OOV={r['oov_share']*100:6.2f}% | types kept={r['kept_types']:>7,} | tokens kept={r['kept_tokens']:>10,}\")\n",
    "\n",
    "plt.figure(figsize=(7, 4.5))\n",
    "plt.plot(candidate_caps, [r['coverage'] for r in rows], marker='o')\n",
    "plt.xlabel(\"training_vocabulary_size (num_words)\")\n",
    "plt.ylabel(\"Token coverage on TRAIN (fraction)\")\n",
    "plt.title(\"Token Coverage vs. Vocab Size (TRAIN only)\")\n",
    "plt.grid(True, linestyle=\":\")\n",
    "plt.ylim(0.75, 1.02)\n",
    "plt.show()\n"
   ]
  },
  {
   "cell_type": "markdown",
   "id": "7d6c35a4-b39a-476b-a7d1-c2b6f2109704",
   "metadata": {},
   "source": [
    "### Load and preprocess dataset\n",
    "\n",
    "Here is where you can set the\n",
    "- `training_vocabulary_size` and\n",
    "- `max_text_length`"
   ]
  },
  {
   "cell_type": "code",
   "execution_count": 6,
   "id": "652c34c2-84f1-44c1-bd68-79eab55d56bd",
   "metadata": {},
   "outputs": [
    {
     "data": {
      "text/plain": [
       "((40000, 500), (10000, 500))"
      ]
     },
     "execution_count": 6,
     "metadata": {},
     "output_type": "execute_result"
    }
   ],
   "source": [
    "# Load and preprocess dataset into padded sequences of token IDs\n",
    "\n",
    "training_vocabulary_size = 50_000               # <-----\n",
    "max_text_length          = 500                  # <-----\n",
    "\n",
    "(X_tr, y_tr), (X_te, y_te) = imdb.load_data( num_words = training_vocabulary_size )     \n",
    "\n",
    "X  = np.concatenate([X_tr, X_te], axis=0)\n",
    "y  = np.concatenate([y_tr, y_te], axis=0)\n",
    "\n",
    "# 80 / 20 stratified split\n",
    "\n",
    "X_train, X_test, y_train, y_test = train_test_split(\n",
    "    X,\n",
    "    y,\n",
    "    test_size=0.2,\n",
    "    random_state=random_seed,\n",
    "    stratify=y\n",
    ")\n",
    "\n",
    "\n",
    "\n",
    "X_train = pad_sequences(\n",
    "    X_train,\n",
    "    maxlen=max_text_length,             \n",
    "    padding='post',     \n",
    "    truncating='post'   \n",
    ")\n",
    "\n",
    "X_test = pad_sequences(\n",
    "    X_test,\n",
    "    maxlen=max_text_length,\n",
    "    padding='post',\n",
    "    truncating='post'\n",
    ")\n",
    "\n",
    "\n",
    "X_train.shape,X_test.shape"
   ]
  },
  {
   "cell_type": "markdown",
   "id": "db429575-f332-45f5-8c5c-b78cfea9b088",
   "metadata": {},
   "source": [
    "### Build the embedding matrix\n",
    "\n",
    "Here is where you can set\n",
    "- `embedding_dimension`\n"
   ]
  },
  {
   "cell_type": "code",
   "execution_count": 7,
   "id": "a20bcd08-12df-4ab9-92b9-13b92cb08f45",
   "metadata": {},
   "outputs": [],
   "source": [
    "#  Build embedding matrix\n",
    "\n",
    "\n",
    "embedding_dimension = 100                     # <-----\n",
    "\n",
    "word_index      = imdb.get_word_index()\n",
    "\n",
    "glove_path = Path(f\"glove.6B/glove.6B.{embedding_dimension}d.txt\")  \n",
    "\n",
    "embeddings_index = {}\n",
    "with glove_path.open(encoding='utf8') as f:\n",
    "    for line in f:\n",
    "        word, *vec = line.split()\n",
    "        embeddings_index[word] = np.asarray(vec, dtype='float32')\n",
    "\n",
    "\n",
    "# Build embedding matrix\n",
    "\n",
    "embedding_matrix = np.zeros((training_vocabulary_size, embedding_dimension))\n",
    "\n",
    "for word, raw_idx in word_index.items():\n",
    "    idx = raw_idx + 3                            # shift by 3 to match Keras’s token IDs\n",
    "    if idx < training_vocabulary_size:\n",
    "        vec = embeddings_index.get(word)\n",
    "        if vec is not None:\n",
    "            embedding_matrix[idx] = vec\n",
    "    "
   ]
  },
  {
   "cell_type": "markdown",
   "id": "4244ff1d-9996-4420-94fb-5c7afa9368e4",
   "metadata": {},
   "source": [
    "### Baseline Model from the Coding Notebook"
   ]
  },
  {
   "cell_type": "code",
   "execution_count": 8,
   "id": "20c877b0-507d-49a1-bc8c-7c92d7f7c5f5",
   "metadata": {},
   "outputs": [
    {
     "name": "stdout",
     "output_type": "stream",
     "text": [
      "\n",
      "model_baseline (frozen)\n",
      "\n"
     ]
    },
    {
     "data": {
      "image/png": "[encoded data removed]",
      "text/plain": [
       "<Figure size 800x800 with 2 Axes>"
      ]
     },
     "metadata": {},
     "output_type": "display_data"
    },
    {
     "name": "stdout",
     "output_type": "stream",
     "text": [
      "\n",
      "Execution Time: 00:03:34\n",
      "\n",
      "Final Training Loss:            0.4410\n",
      "Final Training Accuracy:        0.7984\n",
      "Final Validation Loss:          0.4321\n",
      "Final Validation Accuracy:      0.7960\n",
      "Minimum Validation Loss:        0.4321 (Epoch 169)\n",
      "Validation Accuracy @ Min Loss: 0.7960\n",
      "\n",
      "Test Loss: 0.4330\n",
      "Test Accuracy: 0.8074\n",
      "\n",
      "Validation-Test Accuracy Gap: 0.011400\n"
     ]
    }
   ],
   "source": [
    "\n",
    "model_baseline_frozen = Sequential([\n",
    "    Input(shape=(max_text_length,), dtype='int32'),   # each sample is a sequence of max_text_length integers, e.g., 500\n",
    "    Embedding(\n",
    "        input_dim  = training_vocabulary_size,  \n",
    "        output_dim = embedding_dimension,      \n",
    "        weights    = [embedding_matrix],\n",
    "        mask_zero  = True,                      # ignore <PAD> in pooling -- this makes a huge difference in training speed!\n",
    "        trainable  = False                      # freeze or unfreeze embedding weights\n",
    "    ),\n",
    "    GlobalAveragePooling1D(),                        # take average along each dimension\n",
    "    Dense(1, activation='sigmoid')\n",
    "])\n",
    "    \n",
    "\n",
    "train_and_test(model_baseline_frozen,  lr_schedule=1e-2, title=\"model_baseline (frozen)\")"
   ]
  },
  {
   "cell_type": "markdown",
   "id": "15d214fd-c295-4889-b88b-a3ba9d921bff",
   "metadata": {},
   "source": [
    "#### End of Template Code from Coding Notebook"
   ]
  },
  {
   "cell_type": "markdown",
   "id": "682abe0a-8c4b-45f5-b550-44c903b2e6e6",
   "metadata": {},
   "source": [
    "## Problem One: Baseline with Unfrozen Embeddings\n",
    "\n",
    "**ToDo:**\n",
    "\n",
    "1. Establish a baseline for unfrozen embeddings by running the baseline model but with `trainable = True` to retrain the embeddings as it trains on the the classification task. You will use retrainable embeddings throughout the homework. \n",
    "\n",
    "2. Now run 2-3 experiments to try to improve this baseline: \n",
    "\n",
    "    - Consider adding a Dense layer between the global average pooling and the output layer, with \n",
    "        - Your choice of size\n",
    "        - Your choice of L2 regularizatio (or not)\n",
    "        - Your choice of dropout (or not)\n",
    "3. As needed, tweak the learning rate (try `1e-4`) and try it with or without Reduce on Plateau (you can tweak the parameters there as well)\n",
    "4. Define your best model for unfrozen embeddings based on these experiments (you will use it in the remaining two problems)\n",
    "5. Answer the graded questions\n",
    "\n",
    "**Note:** Generally, you will need a lower learning rate for retrainable embeddings. "
   ]
  },
  {
   "cell_type": "code",
   "execution_count": 20,
   "id": "3f7951ad-9240-448f-aecc-e2587dfe0982",
   "metadata": {},
   "outputs": [],
   "source": [
    "# Your code here; add as many cells as you need"
   ]
  },
  {
   "cell_type": "markdown",
   "id": "d1319df7-4ff9-4039-9abd-2987217bdf91",
   "metadata": {},
   "source": [
    "### Graded Questions\n",
    "\n",
    "#### Question a1a:"
   ]
  },
  {
   "cell_type": "code",
   "execution_count": 21,
   "id": "5af053ee-7fb2-4fc6-b026-942b60c77030",
   "metadata": {},
   "outputs": [],
   "source": [
    "# Set a1a to the validation accuracy for your best model found in this problem\n",
    "\n",
    "a1a = 0.0             # Replace 0.0 with your answer"
   ]
  },
  {
   "cell_type": "code",
   "execution_count": 22,
   "id": "77ade902-acad-429c-b016-ad8490018810",
   "metadata": {},
   "outputs": [
    {
     "name": "stdout",
     "output_type": "stream",
     "text": [
      "a1a = 0.0000\n"
     ]
    }
   ],
   "source": [
    "# Graded Answer\n",
    "# DO NOT change this cell in any way          \n",
    "\n",
    "print(f'a1a = {a1a:.4f}') "
   ]
  },
  {
   "cell_type": "markdown",
   "id": "07daa92b-53a7-41d5-83d6-2b63ed84dfd8",
   "metadata": {},
   "source": [
    "#### Question a1b: Describe below your experiments. What worked and what didn't?    \n",
    "\n",
    "#### Your Answer Here:\n",
    "\n",
    "\n"
   ]
  },
  {
   "cell_type": "markdown",
   "id": "088a43a1-dbe8-4d3e-a46d-6aeb73a77145",
   "metadata": {},
   "source": [
    "## Problem Two: Experiment with Maximum Message Length and Vocabulary Size (still unfrozen)\n",
    "\n",
    "We might expect that increasing the amount of data by increasing the maximum message length and the vocabulary size would improve results,\n",
    "but maybe not, or maybe not as much as you would expect. Let's find out!\n",
    "\n",
    "**ToDo:**\n",
    "\n",
    "1. Start with your best model from Problem One\n",
    "\n",
    "2. Consult the information shown in the EDA cells above, and run 2-3 experiments to try to improve this model by increasing either or both of:\n",
    "\n",
    "    - `max_text_length`, and\n",
    "    - `training_vocabulary_size`\n",
    "3. As needed, tweak the learning rate and try it with or without Reduce on Plateau (you can tweak the parametera there as well)\n",
    "4. Define your best model for use in Problem Three\n",
    "5. Answer the graded questions\n",
    "\n",
    "**Note:** `train_and_test` accesses the training and testing files as globals. You can cut and paste copies of the cells which load, preprocess, and build the embeddings for the dataset, \n",
    "but you'll be **redefining the global names,** just be careful about the order in which you run cells. As an alternative, you can change the parameters in the code in the Prelude, and\n",
    "just run this problem here. "
   ]
  },
  {
   "cell_type": "code",
   "execution_count": 23,
   "id": "27936b45-311a-41e2-b1e0-b15d7c179574",
   "metadata": {},
   "outputs": [],
   "source": [
    "# Your code here; add as many cells as you need"
   ]
  },
  {
   "cell_type": "markdown",
   "id": "54997ee5-cbdf-4d74-b373-fceb09a854a5",
   "metadata": {},
   "source": [
    "### Graded Questions"
   ]
  },
  {
   "cell_type": "code",
   "execution_count": 24,
   "id": "a67d26c5-8294-438a-b29f-6a091180a1f8",
   "metadata": {},
   "outputs": [],
   "source": [
    "# Set a1a to the validation accuracy for your best model found in this problem\n",
    "\n",
    "a2a = 0.0             # Replace 0.0 with your answer"
   ]
  },
  {
   "cell_type": "code",
   "execution_count": 25,
   "id": "0dd1c33c-4761-4954-a04d-e4e4def945ab",
   "metadata": {},
   "outputs": [
    {
     "name": "stdout",
     "output_type": "stream",
     "text": [
      "a2a = 0.0000\n"
     ]
    }
   ],
   "source": [
    "# Graded Answer\n",
    "# DO NOT change this cell in any way          \n",
    "\n",
    "print(f'a2a = {a2a:.4f}') "
   ]
  },
  {
   "cell_type": "markdown",
   "id": "72a5141a-091b-4502-870d-d17ee4242f03",
   "metadata": {},
   "source": [
    "#### Question a2b: Describe below your experiments. What effect did your changes to the dataset have? Did it help as you as you expected?   \n",
    "\n",
    "#### Your Answer Here:"
   ]
  },
  {
   "cell_type": "markdown",
   "id": "234703ac-450e-4f27-9108-76ff6c748987",
   "metadata": {},
   "source": [
    "## Problem Three: Experiment with the Embedding Dimension  (still unfrozen)\n",
    "\n",
    "We might expect that increasing the embedding dimension would improve your results!\n",
    "Again, maybe not, or maybe not as much as you would expect. Let's find out!\n",
    "\n",
    "**ToDo:**\n",
    "\n",
    "1. Start with your best model from Problem Two (which used an embedding dimension of 100)\n",
    "2. Try an embedding dimension of 300 to see the effect. (Optional: Try 50 and 200 as well.)\n",
    "3. As necessary weak the learning rate and try it with or without Reduce on Plateau (you can tweak the parameters there as well)\n",
    "4. Answer the graded questions"
   ]
  },
  {
   "cell_type": "code",
   "execution_count": 26,
   "id": "b5cbd4c0-aff6-4c68-b146-03be772408ea",
   "metadata": {},
   "outputs": [],
   "source": [
    "# Your code here; add as many cells as you need"
   ]
  },
  {
   "cell_type": "markdown",
   "id": "2ccfa8c9-9fc6-4d61-9b9a-0fa8964b72a5",
   "metadata": {},
   "source": [
    "### Graded Questions"
   ]
  },
  {
   "cell_type": "code",
   "execution_count": 27,
   "id": "0311d898-edf6-4203-8955-eeb6f061ff5c",
   "metadata": {},
   "outputs": [],
   "source": [
    "# Set a1a to the validation accuracy for your best model found in this problem\n",
    "\n",
    "a3a = 0.0             # Replace 0.0 with your answer"
   ]
  },
  {
   "cell_type": "code",
   "execution_count": 28,
   "id": "3157166d-8224-42d1-9d78-4b5fe1f56dbf",
   "metadata": {},
   "outputs": [
    {
     "name": "stdout",
     "output_type": "stream",
     "text": [
      "a3a = 0.0000\n"
     ]
    }
   ],
   "source": [
    "# Graded Answer\n",
    "# DO NOT change this cell in any way          \n",
    "\n",
    "print(f'a3a = {a3a:.4f}') "
   ]
  },
  {
   "cell_type": "markdown",
   "id": "3853643e-097d-44db-be79-7bf40bf49fa7",
   "metadata": {},
   "source": [
    "#### Question a3b: Describe below your experiments. What effect did increasing the dimension from 100 to 300 have? Did it help as you as you expected?  \n",
    "\n",
    "#### Your Answer Here:"
   ]
  },
  {
   "cell_type": "code",
   "execution_count": 29,
   "id": "43101758-9ee4-433f-a12a-6dc3aa68028d",
   "metadata": {},
   "outputs": [
    {
     "name": "stdout",
     "output_type": "stream",
     "text": [
      "model_baseline (frozen)                 \t0.7960\t169\n"
     ]
    }
   ],
   "source": [
    "print_results()"
   ]
  },
  {
   "cell_type": "code",
   "execution_count": 30,
   "id": "a30bfbad-1478-4de7-aecd-e857ec2c35ee",
   "metadata": {},
   "outputs": [
    {
     "data": {
      "text/plain": [
       "{'model_baseline (frozen)': [{'title': 'model_baseline (frozen)',\n",
       "   'timestamp': '2025-10-11T12:24:35',\n",
       "   'epochs': 200,\n",
       "   'optimizer': 'Adam',\n",
       "   'lr_schedule': 0.01,\n",
       "   'clipnorm': None,\n",
       "   'loss': 'binary_crossentropy',\n",
       "   'batch_size': 128,\n",
       "   'use_early_stopping': True,\n",
       "   'patience': 10,\n",
       "   'min_delta': 0.0001,\n",
       "   'callbacks': [],\n",
       "   'Final Training Loss': 0.4410482347011566,\n",
       "   'Final Training Accuracy': 0.7984062433242798,\n",
       "   'Final Val Loss': 0.4321013391017914,\n",
       "   'Final Val Accuracy': 0.7960000038146973,\n",
       "   'Min Val Loss': 0.4321013391017914,\n",
       "   'Min Val Loss Epoch': 168,\n",
       "   'Val Acc @ Min Loss': 0.7960000038146973,\n",
       "   'Test Loss': 0.4330263137817383,\n",
       "   'Test Acc': 0.8073999881744385,\n",
       "   'Val-Test Accuracy Gap:': 0.011399984359741211}]}"
      ]
     },
     "execution_count": 30,
     "metadata": {},
     "output_type": "execute_result"
    }
   ],
   "source": [
    "# This will have recorded details of all your experiments\n",
    "\n",
    "parameter_settings"
   ]
  }
 ],
 "metadata": {
  "kernelspec": {
   "display_name": "Python 3 (ipykernel)",
   "language": "python",
   "name": "python3"
  },
  "language_info": {
   "codemirror_mode": {
    "name": "ipython",
    "version": 3
   },
   "file_extension": ".py",
   "mimetype": "text/x-python",
   "name": "python",
   "nbconvert_exporter": "python",
   "pygments_lexer": "ipython3",
   "version": "3.10.18"
  }
 },
 "nbformat": 4,
 "nbformat_minor": 5
}
